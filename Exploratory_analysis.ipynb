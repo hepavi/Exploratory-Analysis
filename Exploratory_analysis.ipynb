{
 "cells": [
  {
   "cell_type": "markdown",
   "metadata": {},
   "source": [
    "## Análise Exploratória\n",
    "\n",
    "Dentro das etapas de <b> aprendizado de máquina </b> ou em inglês <i> machine learning</i>, sem dúvida uma das mais importante é o processo de preparação de dados.\n",
    "\n",
    "Uma vez coletado os dados é importante entendê-lo, de modo a conhecer as suas variáveis, costumeiramente chamada de atributo ou *feature* em inglês e a partir delas construir um modelo capaz de prever a variável resposta ou *target*, sendo esse o grande objetivo da aplicação de um modelo de aprendizado de máquina, ou em outras palavras, todo o processo desde a coleta de dados, passando pela preparação dos dados e definição do modelo a ser aplicado deve-se levar em conta o que se deseja prever, sendo o objetivo da preparação de dados transformar os dados obtidos em importantes informações para a obtenção da variável resposta.\n",
    "\n",
    "Para auxiliar, no entendimentos dos conceitos, utilizaremos o dataset Titanic, que pode ser encontrado no Kaggle.\n",
    "\n",
    "Esse dataset contém informações reais sobre os passageiros do navio Titanic, que naufragou em 1912. As informações são divididas em dois arquivos, um para o treinamento do modelo *train.csv* e outro para o teste *test.csv*, sendo o objetivo identificar quais passageiros, dentro do conjunto de teste, sobreviveram ao naufrágio."
   ]
  },
  {
   "cell_type": "code",
   "execution_count": null,
   "metadata": {},
   "outputs": [],
   "source": [
    "############################################\n",
    "# Kaggle\n",
    "# Comprehensive Feature Engineering Tutorial\n",
    "############################################"
   ]
  },
  {
   "cell_type": "code",
   "execution_count": 1,
   "metadata": {},
   "outputs": [
    {
     "data": {
      "text/html": [
       "<div>\n",
       "<style scoped>\n",
       "    .dataframe tbody tr th:only-of-type {\n",
       "        vertical-align: middle;\n",
       "    }\n",
       "\n",
       "    .dataframe tbody tr th {\n",
       "        vertical-align: top;\n",
       "    }\n",
       "\n",
       "    .dataframe thead th {\n",
       "        text-align: right;\n",
       "    }\n",
       "</style>\n",
       "<table border=\"1\" class=\"dataframe\">\n",
       "  <thead>\n",
       "    <tr style=\"text-align: right;\">\n",
       "      <th></th>\n",
       "      <th>Survived</th>\n",
       "      <th>Pclass</th>\n",
       "      <th>Name</th>\n",
       "      <th>Sex</th>\n",
       "      <th>Age</th>\n",
       "      <th>SibSp</th>\n",
       "      <th>Parch</th>\n",
       "      <th>Ticket</th>\n",
       "      <th>Fare</th>\n",
       "      <th>Cabin</th>\n",
       "      <th>Embarked</th>\n",
       "    </tr>\n",
       "    <tr>\n",
       "      <th>PassengerId</th>\n",
       "      <th></th>\n",
       "      <th></th>\n",
       "      <th></th>\n",
       "      <th></th>\n",
       "      <th></th>\n",
       "      <th></th>\n",
       "      <th></th>\n",
       "      <th></th>\n",
       "      <th></th>\n",
       "      <th></th>\n",
       "      <th></th>\n",
       "    </tr>\n",
       "  </thead>\n",
       "  <tbody>\n",
       "    <tr>\n",
       "      <th>1</th>\n",
       "      <td>0</td>\n",
       "      <td>3</td>\n",
       "      <td>Braund, Mr. Owen Harris</td>\n",
       "      <td>male</td>\n",
       "      <td>22.0</td>\n",
       "      <td>1</td>\n",
       "      <td>0</td>\n",
       "      <td>A/5 21171</td>\n",
       "      <td>7.2500</td>\n",
       "      <td>NaN</td>\n",
       "      <td>S</td>\n",
       "    </tr>\n",
       "    <tr>\n",
       "      <th>2</th>\n",
       "      <td>1</td>\n",
       "      <td>1</td>\n",
       "      <td>Cumings, Mrs. John Bradley (Florence Briggs Th...</td>\n",
       "      <td>female</td>\n",
       "      <td>38.0</td>\n",
       "      <td>1</td>\n",
       "      <td>0</td>\n",
       "      <td>PC 17599</td>\n",
       "      <td>71.2833</td>\n",
       "      <td>C85</td>\n",
       "      <td>C</td>\n",
       "    </tr>\n",
       "    <tr>\n",
       "      <th>3</th>\n",
       "      <td>1</td>\n",
       "      <td>3</td>\n",
       "      <td>Heikkinen, Miss. Laina</td>\n",
       "      <td>female</td>\n",
       "      <td>26.0</td>\n",
       "      <td>0</td>\n",
       "      <td>0</td>\n",
       "      <td>STON/O2. 3101282</td>\n",
       "      <td>7.9250</td>\n",
       "      <td>NaN</td>\n",
       "      <td>S</td>\n",
       "    </tr>\n",
       "    <tr>\n",
       "      <th>4</th>\n",
       "      <td>1</td>\n",
       "      <td>1</td>\n",
       "      <td>Futrelle, Mrs. Jacques Heath (Lily May Peel)</td>\n",
       "      <td>female</td>\n",
       "      <td>35.0</td>\n",
       "      <td>1</td>\n",
       "      <td>0</td>\n",
       "      <td>113803</td>\n",
       "      <td>53.1000</td>\n",
       "      <td>C123</td>\n",
       "      <td>S</td>\n",
       "    </tr>\n",
       "    <tr>\n",
       "      <th>5</th>\n",
       "      <td>0</td>\n",
       "      <td>3</td>\n",
       "      <td>Allen, Mr. William Henry</td>\n",
       "      <td>male</td>\n",
       "      <td>35.0</td>\n",
       "      <td>0</td>\n",
       "      <td>0</td>\n",
       "      <td>373450</td>\n",
       "      <td>8.0500</td>\n",
       "      <td>NaN</td>\n",
       "      <td>S</td>\n",
       "    </tr>\n",
       "    <tr>\n",
       "      <th>...</th>\n",
       "      <td>...</td>\n",
       "      <td>...</td>\n",
       "      <td>...</td>\n",
       "      <td>...</td>\n",
       "      <td>...</td>\n",
       "      <td>...</td>\n",
       "      <td>...</td>\n",
       "      <td>...</td>\n",
       "      <td>...</td>\n",
       "      <td>...</td>\n",
       "      <td>...</td>\n",
       "    </tr>\n",
       "    <tr>\n",
       "      <th>887</th>\n",
       "      <td>0</td>\n",
       "      <td>2</td>\n",
       "      <td>Montvila, Rev. Juozas</td>\n",
       "      <td>male</td>\n",
       "      <td>27.0</td>\n",
       "      <td>0</td>\n",
       "      <td>0</td>\n",
       "      <td>211536</td>\n",
       "      <td>13.0000</td>\n",
       "      <td>NaN</td>\n",
       "      <td>S</td>\n",
       "    </tr>\n",
       "    <tr>\n",
       "      <th>888</th>\n",
       "      <td>1</td>\n",
       "      <td>1</td>\n",
       "      <td>Graham, Miss. Margaret Edith</td>\n",
       "      <td>female</td>\n",
       "      <td>19.0</td>\n",
       "      <td>0</td>\n",
       "      <td>0</td>\n",
       "      <td>112053</td>\n",
       "      <td>30.0000</td>\n",
       "      <td>B42</td>\n",
       "      <td>S</td>\n",
       "    </tr>\n",
       "    <tr>\n",
       "      <th>889</th>\n",
       "      <td>0</td>\n",
       "      <td>3</td>\n",
       "      <td>Johnston, Miss. Catherine Helen \"Carrie\"</td>\n",
       "      <td>female</td>\n",
       "      <td>NaN</td>\n",
       "      <td>1</td>\n",
       "      <td>2</td>\n",
       "      <td>W./C. 6607</td>\n",
       "      <td>23.4500</td>\n",
       "      <td>NaN</td>\n",
       "      <td>S</td>\n",
       "    </tr>\n",
       "    <tr>\n",
       "      <th>890</th>\n",
       "      <td>1</td>\n",
       "      <td>1</td>\n",
       "      <td>Behr, Mr. Karl Howell</td>\n",
       "      <td>male</td>\n",
       "      <td>26.0</td>\n",
       "      <td>0</td>\n",
       "      <td>0</td>\n",
       "      <td>111369</td>\n",
       "      <td>30.0000</td>\n",
       "      <td>C148</td>\n",
       "      <td>C</td>\n",
       "    </tr>\n",
       "    <tr>\n",
       "      <th>891</th>\n",
       "      <td>0</td>\n",
       "      <td>3</td>\n",
       "      <td>Dooley, Mr. Patrick</td>\n",
       "      <td>male</td>\n",
       "      <td>32.0</td>\n",
       "      <td>0</td>\n",
       "      <td>0</td>\n",
       "      <td>370376</td>\n",
       "      <td>7.7500</td>\n",
       "      <td>NaN</td>\n",
       "      <td>Q</td>\n",
       "    </tr>\n",
       "  </tbody>\n",
       "</table>\n",
       "<p>891 rows × 11 columns</p>\n",
       "</div>"
      ],
      "text/plain": [
       "             Survived  Pclass  \\\n",
       "PassengerId                     \n",
       "1                   0       3   \n",
       "2                   1       1   \n",
       "3                   1       3   \n",
       "4                   1       1   \n",
       "5                   0       3   \n",
       "...               ...     ...   \n",
       "887                 0       2   \n",
       "888                 1       1   \n",
       "889                 0       3   \n",
       "890                 1       1   \n",
       "891                 0       3   \n",
       "\n",
       "                                                          Name     Sex   Age  \\\n",
       "PassengerId                                                                    \n",
       "1                                      Braund, Mr. Owen Harris    male  22.0   \n",
       "2            Cumings, Mrs. John Bradley (Florence Briggs Th...  female  38.0   \n",
       "3                                       Heikkinen, Miss. Laina  female  26.0   \n",
       "4                 Futrelle, Mrs. Jacques Heath (Lily May Peel)  female  35.0   \n",
       "5                                     Allen, Mr. William Henry    male  35.0   \n",
       "...                                                        ...     ...   ...   \n",
       "887                                      Montvila, Rev. Juozas    male  27.0   \n",
       "888                               Graham, Miss. Margaret Edith  female  19.0   \n",
       "889                   Johnston, Miss. Catherine Helen \"Carrie\"  female   NaN   \n",
       "890                                      Behr, Mr. Karl Howell    male  26.0   \n",
       "891                                        Dooley, Mr. Patrick    male  32.0   \n",
       "\n",
       "             SibSp  Parch            Ticket     Fare Cabin Embarked  \n",
       "PassengerId                                                          \n",
       "1                1      0         A/5 21171   7.2500   NaN        S  \n",
       "2                1      0          PC 17599  71.2833   C85        C  \n",
       "3                0      0  STON/O2. 3101282   7.9250   NaN        S  \n",
       "4                1      0            113803  53.1000  C123        S  \n",
       "5                0      0            373450   8.0500   NaN        S  \n",
       "...            ...    ...               ...      ...   ...      ...  \n",
       "887              0      0            211536  13.0000   NaN        S  \n",
       "888              0      0            112053  30.0000   B42        S  \n",
       "889              1      2        W./C. 6607  23.4500   NaN        S  \n",
       "890              0      0            111369  30.0000  C148        C  \n",
       "891              0      0            370376   7.7500   NaN        Q  \n",
       "\n",
       "[891 rows x 11 columns]"
      ]
     },
     "execution_count": 1,
     "metadata": {},
     "output_type": "execute_result"
    }
   ],
   "source": [
    "# Leitura dos dados de treinamento\n",
    "import matplotlib.pyplot as plt\n",
    "import os \n",
    "import pandas as pd\n",
    "import seaborn as sns\n",
    "\n",
    "path = os.path.join('dados','train.csv')\n",
    "train = pd.read_csv(path, delimiter = \",\", index_col = 'PassengerId')\n",
    "train"
   ]
  },
  {
   "cell_type": "markdown",
   "metadata": {},
   "source": [
    "Observem que o arquivo é composto por 891 linhas e 11 colunas, seriam 12, mas acabei considerando o id do passageiro como index do dataframe. <br>\n",
    "Segue um breve descritivo de cada variável:\n",
    "\n",
    " - **Survived**: 0 se o passageiro morreu ou 1 se o passageiro sobreviveu\n",
    " - **Pclass**: A classe do passageiro (1°, 2° ou 3°)\n",
    " - **Name**: Nome do passageiro\n",
    " - **Sex**: Sexo do passageiro, masculino (*male*) ou feminino (*female*) \n",
    " - **Age**: idade do passageiro\n",
    " - **SibSp**: a quantidade de conjugue ou irmãos a bordo\n",
    " - **Parch**: a quantidade de pais ou filhos a bordo\n",
    " - **Ticket**: o número do ticket do passageiro\n",
    " - **Fare**: tarifa paga pelo passageiro\n",
    " - **Cabin**: o número/referência da cabine do passageiro\n",
    " - **Embarked**: onde o passageiro embarcou, C = Cherbourg, Q = Queenstown ou S = Southampton\n",
    " \n",
    "Agora vamos fazer uma visão geral sobre os dados\n",
    "\n",
    "### Valores Missing"
   ]
  },
  {
   "cell_type": "code",
   "execution_count": 2,
   "metadata": {},
   "outputs": [
    {
     "name": "stdout",
     "output_type": "stream",
     "text": [
      "Quantidade de valores missing\n",
      "Survived      0\n",
      "Pclass        0\n",
      "Name          0\n",
      "Sex           0\n",
      "Age         177\n",
      "SibSp         0\n",
      "Parch         0\n",
      "Ticket        0\n",
      "Fare          0\n",
      "Cabin       687\n",
      "Embarked      2\n",
      "dtype: int64\n",
      "\n",
      "Percentual de valores missing\n",
      "Survived     0.0\n",
      "Pclass       0.0\n",
      "Name         0.0\n",
      "Sex          0.0\n",
      "Age         19.9\n",
      "SibSp        0.0\n",
      "Parch        0.0\n",
      "Ticket       0.0\n",
      "Fare         0.0\n",
      "Cabin       77.1\n",
      "Embarked     0.2\n",
      "dtype: float64\n"
     ]
    }
   ],
   "source": [
    "# Procurando variáveis missing\n",
    "print(\"Quantidade de valores missing\")\n",
    "print(train.isnull().sum())\n",
    "\n",
    "print()\n",
    "print(\"Percentual de valores missing\")\n",
    "print(round(train.isnull().mean(),3)*100)"
   ]
  },
  {
   "cell_type": "markdown",
   "metadata": {},
   "source": [
    "Dentre as variáveis de atributo temos 3 contendo variáveis missing, **Age** com 177 casos o que corresponde a quase 20% dos dados, **Cabin** com 687 casos correspondendo mais de 77% e **Embarked** com apenas 2 casos nem 1% dos dados.\n",
    "\n",
    "### Outliers\n",
    "\n",
    "Antes de mais nada, o que significa outliers? <br>\n",
    "De uma definição mais literal seriam o ponto ou pontos que destoam da maioria. <br>\n",
    "Uma outra importante questão seria o que motivaria o surgimento de um outlier? <br>\n",
    "Poderia ser devido a um erro, tal como de digitação, ou poderia ser devido a ser um fenômeno mais raro, em relação aos demais pontos da amostra e por esse motivo destoar deles.\n",
    "\n",
    "Existem alguns métodos, que podem ser utilizado para a detecção de outliers, a escolha de qual utilizar pode ser particular e mais adequado ao problema que está querendo solucionar."
   ]
  },
  {
   "cell_type": "code",
   "execution_count": 3,
   "metadata": {},
   "outputs": [
    {
     "data": {
      "text/plain": [
       "<matplotlib.axes._subplots.AxesSubplot at 0x7fc396ec1890>"
      ]
     },
     "execution_count": 3,
     "metadata": {},
     "output_type": "execute_result"
    },
    {
     "data": {
      "image/png": "[encoded data removed]",
      "text/plain": [
       "<Figure size 1275x425 with 3 Axes>"
      ]
     },
     "metadata": {
      "needs_background": "light"
     },
     "output_type": "display_data"
    }
   ],
   "source": [
    "# Visualização das variáveis\n",
    "# Via Box-Plot\n",
    "\n",
    "# devido ao range de cada variável vou separa-lás para ficar mais facil a visualização\n",
    "num_feature1 = ['SibSp', 'Parch']\n",
    "num_feature2 = ['Age']\n",
    "num_feature3 = ['Fare']\n",
    "\n",
    "fig, axes = plt.subplots(nrows = 1,ncols = 3,figsize = (15,5), dpi=85)\n",
    "sns.boxplot(data = train[num_feature1], width=0.5, palette=\"Set3\", ax = axes[0])\n",
    "sns.boxplot(data = train[num_feature2], width=0.5, palette=\"Set3\", ax = axes[1])\n",
    "sns.boxplot(data = train[num_feature3], width=0.5, palette=\"Set3\", ax = axes[2])"
   ]
  },
  {
   "cell_type": "code",
   "execution_count": 4,
   "metadata": {},
   "outputs": [
    {
     "data": {
      "text/plain": [
       "<matplotlib.axes._subplots.AxesSubplot at 0x7fc396b37750>"
      ]
     },
     "execution_count": 4,
     "metadata": {},
     "output_type": "execute_result"
    },
    {
     "data": {
      "image/png": "[encoded data removed]",
      "text/plain": [
       "<Figure size 1275x850 with 4 Axes>"
      ]
     },
     "metadata": {
      "needs_background": "light"
     },
     "output_type": "display_data"
    }
   ],
   "source": [
    "# Via histograma\n",
    "\n",
    "fig, axes = plt.subplots(nrows = 2,ncols = 2,figsize = (15,10), dpi=85)\n",
    "sns.distplot(train['SibSp'], kde=False, ax = axes[0,0])\n",
    "sns.distplot(train['Parch'], kde=False, ax = axes[0,1])\n",
    "sns.distplot(train['Age'],   kde=False, ax = axes[1,0])\n",
    "sns.distplot(train['Fare'],  kde=False, ax = axes[1,1])"
   ]
  },
  {
   "cell_type": "markdown",
   "metadata": {},
   "source": [
    "Observando pelo box-plot verificamos, em todas as variáveis atributos, que alguns pontos ficam destoados da maioria, mas, complementando pela visão do histograma, não me parecem pontos produzidos via erro e sim alguma característica menos frequente, desse modo a sua remoção deve ocorrer com muita parcimônia, pois por um lado, dependendo de qual modelo esteja utilizando pode distorcer a resposta final, por outro lado ao eliminá-lo podemos perder o poder de generalização para prever baseado em determinadas características.\n",
    "\n",
    "### Cardinalidade"
   ]
  },
  {
   "cell_type": "code",
   "execution_count": 20,
   "metadata": {},
   "outputs": [
    {
     "data": {
      "text/plain": [
       "{'Survived': 2,\n",
       " 'Pclass': 3,\n",
       " 'Name': 891,\n",
       " 'Sex': 2,\n",
       " 'Age': 89,\n",
       " 'SibSp': 7,\n",
       " 'Parch': 7,\n",
       " 'Ticket': 681,\n",
       " 'Fare': 248,\n",
       " 'Cabin': 148,\n",
       " 'Embarked': 4}"
      ]
     },
     "execution_count": 20,
     "metadata": {},
     "output_type": "execute_result"
    }
   ],
   "source": [
    "dict_card = {}\n",
    "for i in range(len(train.columns)):\n",
    "    dict_card[train.columns[i]] = len(train.loc[:,train.columns[i]].unique())\n",
    "dict_card"
   ]
  },
  {
   "cell_type": "markdown",
   "metadata": {},
   "source": [
    "Como era de se esperar Name e Ticket apresentaram uma alta cardinalidade, um representando o passageiro e outro o ticket associado a ele/familia, além delas outra três informações apresentam um número grande de valores diferentes, Fare, Cabin e Age. Para esses casos uma importante decisão a se tomar é se vamos manter esses dados da forma como estão ou agrupar em subgrupos menores."
   ]
  },
  {
   "cell_type": "markdown",
   "metadata": {},
   "source": [
    "### Balanceamento da variável resposta\n",
    "\n",
    "Um outro ponto importante a se analisar, em um conjunto de dados, é a proporção das respostas no conjunto de dados, mais precisamente, verificar se estão balanceadas, ou em outras palavras, com proporções parecidas, ou desbalanceado. Lembrando que o desbalanceamento não necessariamente significa uma amostra ruim e sim um evento raro e isso pode ser encontrado em problemas de detecção de fraudes, eventos mais raros ou fora do comportamento normal do indivíduo, detecção de doenças entre outros problemas."
   ]
  },
  {
   "cell_type": "code",
   "execution_count": 12,
   "metadata": {},
   "outputs": [
    {
     "data": {
      "text/html": [
       "<div>\n",
       "<style scoped>\n",
       "    .dataframe tbody tr th:only-of-type {\n",
       "        vertical-align: middle;\n",
       "    }\n",
       "\n",
       "    .dataframe tbody tr th {\n",
       "        vertical-align: top;\n",
       "    }\n",
       "\n",
       "    .dataframe thead th {\n",
       "        text-align: right;\n",
       "    }\n",
       "</style>\n",
       "<table border=\"1\" class=\"dataframe\">\n",
       "  <thead>\n",
       "    <tr style=\"text-align: right;\">\n",
       "      <th></th>\n",
       "      <th>Name</th>\n",
       "    </tr>\n",
       "    <tr>\n",
       "      <th>Survived</th>\n",
       "      <th></th>\n",
       "    </tr>\n",
       "  </thead>\n",
       "  <tbody>\n",
       "    <tr>\n",
       "      <th>0</th>\n",
       "      <td>0.616162</td>\n",
       "    </tr>\n",
       "    <tr>\n",
       "      <th>1</th>\n",
       "      <td>0.383838</td>\n",
       "    </tr>\n",
       "  </tbody>\n",
       "</table>\n",
       "</div>"
      ],
      "text/plain": [
       "              Name\n",
       "Survived          \n",
       "0         0.616162\n",
       "1         0.383838"
      ]
     },
     "execution_count": 12,
     "metadata": {},
     "output_type": "execute_result"
    }
   ],
   "source": [
    "train[['Survived','Name']].groupby(['Survived'],as_index=True).count()/len(train)"
   ]
  },
  {
   "cell_type": "markdown",
   "metadata": {},
   "source": [
    "Observem que possuimos apenas 38% dos passageiros na classe de sobreviventes, o que mostra um leve desbalanceamento."
   ]
  }
 ],
 "metadata": {
  "kernelspec": {
   "display_name": "Python 3",
   "language": "python",
   "name": "python3"
  },
  "language_info": {
   "codemirror_mode": {
    "name": "ipython",
    "version": 3
   },
   "file_extension": ".py",
   "mimetype": "text/x-python",
   "name": "python",
   "nbconvert_exporter": "python",
   "pygments_lexer": "ipython3",
   "version": "3.7.7"
  }
 },
 "nbformat": 4,
 "nbformat_minor": 4
}
